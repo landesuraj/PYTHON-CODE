{
 "cells": [
  {
   "cell_type": "code",
   "execution_count": 43,
   "id": "a2a0de79",
   "metadata": {},
   "outputs": [],
   "source": [
    "#default"
   ]
  },
  {
   "cell_type": "code",
   "execution_count": 44,
   "id": "74e613b5",
   "metadata": {},
   "outputs": [],
   "source": [
    "def add(a,b=10):\n",
    "    print(a+b)"
   ]
  },
  {
   "cell_type": "code",
   "execution_count": 48,
   "id": "ce5f3e6f",
   "metadata": {},
   "outputs": [
    {
     "name": "stdout",
     "output_type": "stream",
     "text": [
      "50\n"
     ]
    }
   ],
   "source": [
    "add(20,30)"
   ]
  },
  {
   "cell_type": "code",
   "execution_count": 51,
   "id": "530a257c",
   "metadata": {},
   "outputs": [
    {
     "name": "stdout",
     "output_type": "stream",
     "text": [
      "30\n"
     ]
    }
   ],
   "source": [
    "add(30)"
   ]
  },
  {
   "cell_type": "code",
   "execution_count": null,
   "id": "091eb85b",
   "metadata": {},
   "outputs": [],
   "source": []
  }
 ],
 "metadata": {
  "kernelspec": {
   "display_name": "Python 3",
   "language": "python",
   "name": "python3"
  },
  "language_info": {
   "codemirror_mode": {
    "name": "ipython",
    "version": 3
   },
   "file_extension": ".py",
   "mimetype": "text/x-python",
   "name": "python",
   "nbconvert_exporter": "python",
   "pygments_lexer": "ipython3",
   "version": "3.8.8"
  }
 },
 "nbformat": 4,
 "nbformat_minor": 5
}
